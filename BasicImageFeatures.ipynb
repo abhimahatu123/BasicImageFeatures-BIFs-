{
 "cells": [
  {
   "cell_type": "code",
   "execution_count": 1,
   "metadata": {
    "collapsed": true,
    "deletable": true,
    "editable": true
   },
   "outputs": [],
   "source": [
    "import numpy as np\n",
    "import matplotlib.pyplot as plt\n",
    "import matplotlib.image as mpimg\n",
    "from scipy import ndimage"
   ]
  },
  {
   "cell_type": "code",
   "execution_count": 2,
   "metadata": {
    "collapsed": false,
    "deletable": true,
    "editable": true
   },
   "outputs": [],
   "source": [
    "def rgb2gray(rgb):\n",
    "    return np.dot(rgb[...,:3], [0.299, 0.587, 0.114])\n",
    "\n",
    "img = mpimg.imread('letter.png')     \n",
    "gray = rgb2gray(img)"
   ]
  },
  {
   "cell_type": "code",
   "execution_count": 3,
   "metadata": {
    "collapsed": false,
    "deletable": true,
    "editable": true
   },
   "outputs": [],
   "source": [
    "orders = np.array([[0,0], [1,0], [0,1],\n",
    "                  [2,0], [1,1], [0,2]])\n",
    "\n",
    "imrows, imcols = np.shape(gray)\n",
    "jet = np.zeros((6, imrows, imcols))\n",
    "sigma = 0.5\n",
    "epsilon = 0"
   ]
  },
  {
   "cell_type": "code",
   "execution_count": 4,
   "metadata": {
    "collapsed": false,
    "deletable": true,
    "editable": true
   },
   "outputs": [],
   "source": [
    "def DtGfiltersBank(sigma):\n",
    "    x = np.linspace(-5*sigma, 5*sigma, 6)\n",
    "    x2 = x**2\n",
    "    \n",
    "    DtGkernels = np.zeros((6,2,6))\n",
    "    dKernel = []\n",
    "    \n",
    "    baseKernel = np.exp(-x2/(2*(sigma**2)))\n",
    "    dKernel.append((1/(np.sqrt(2)*sigma))*baseKernel)\n",
    "    dKernel.append(-x*(1/(np.sqrt(2)*(sigma**3))*baseKernel))\n",
    "    dKernel.append((x2 - (sigma**2))/(np.sqrt(2)*(sigma**5))*baseKernel)\n",
    "    \n",
    "    orders = np.array([[0,0], [1,0], [0,1],\n",
    "                  [2,0], [1,1], [0,2]])\n",
    "    \n",
    "    for i in xrange(np.shape(orders)[0]):\n",
    "        DtGkernels[i,1] = dKernel[orders[i,0]]\n",
    "        DtGkernels[i,0] = dKernel[orders[i,1]]\n",
    "    \n",
    "    return DtGkernels\n",
    "\n",
    "def efficientConvolution(I, kx, ky):\n",
    "    size = len(kx)\n",
    "    J = ndimage.convolve(I, kx.reshape(1, size), mode='nearest')\n",
    "    J = ndimage.convolve(J, ky.reshape(1, size), mode='nearest')\n",
    "    \n",
    "    return J"
   ]
  },
  {
   "cell_type": "code",
   "execution_count": 5,
   "metadata": {
    "collapsed": false,
    "deletable": true,
    "editable": true
   },
   "outputs": [],
   "source": [
    "DtGfilters = DtGfiltersBank(sigma)\n",
    "\n",
    "for i in xrange(np.shape(orders)[0]):\n",
    "    jet[i] = efficientConvolution(gray, DtGfilters[i,0], DtGfilters[i,1])*(sigma**(np.sum(orders[i])))"
   ]
  },
  {
   "cell_type": "code",
   "execution_count": 6,
   "metadata": {
    "collapsed": false,
    "deletable": true,
    "editable": true
   },
   "outputs": [],
   "source": [
    "#Compute lamda and mu\n",
    "lamda = np.squeeze(jet[3]) + np.squeeze(jet[5])\n",
    "mu = np.sqrt(((np.squeeze(jet[3]) - np.squeeze(jet[5]))**2) + 4*np.squeeze(jet[4]**2))"
   ]
  },
  {
   "cell_type": "code",
   "execution_count": 7,
   "metadata": {
    "collapsed": false,
    "deletable": true,
    "editable": true
   },
   "outputs": [],
   "source": [
    "#Initialize classifiers array\n",
    "c = np.zeros((imrows, imcols, 7))"
   ]
  },
  {
   "cell_type": "code",
   "execution_count": 8,
   "metadata": {
    "collapsed": false,
    "deletable": true,
    "editable": true
   },
   "outputs": [],
   "source": [
    "c[:,:,0] = epsilon*np.squeeze(jet[0])\n",
    "c[:,:,1] = np.sqrt((np.squeeze(jet[1])**2) + np.squeeze(jet[2]**2))\n",
    "c[:,:,2] = lamda\n",
    "c[:,:,3] = -lamda\n",
    "c[:,:,4] = (2**(-0.5))*(mu + lamda)\n",
    "c[:,:,5] = (2**(-0.5))*(mu - lamda)\n",
    "c[:,:,6] = mu"
   ]
  },
  {
   "cell_type": "code",
   "execution_count": 11,
   "metadata": {
    "collapsed": false,
    "deletable": true,
    "editable": true
   },
   "outputs": [],
   "source": [
    "C = np.max(c,axis=2)"
   ]
  }
 ],
 "metadata": {
  "kernelspec": {
   "display_name": "Python 2",
   "language": "python",
   "name": "python2"
  },
  "language_info": {
   "codemirror_mode": {
    "name": "ipython",
    "version": 2
   },
   "file_extension": ".py",
   "mimetype": "text/x-python",
   "name": "python",
   "nbconvert_exporter": "python",
   "pygments_lexer": "ipython2",
   "version": "2.7.11"
  }
 },
 "nbformat": 4,
 "nbformat_minor": 2
}
